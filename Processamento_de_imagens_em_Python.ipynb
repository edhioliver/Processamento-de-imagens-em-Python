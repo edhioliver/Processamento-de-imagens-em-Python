{
  "nbformat": 4,
  "nbformat_minor": 0,
  "metadata": {
    "colab": {
      "provenance": [],
      "mount_file_id": "1fh3xt3IFA8Wl3uUWnZkr4sG9pYgSfVwd",
      "authorship_tag": "ABX9TyMc2pAJGpmZyXA1jrULmufi",
      "include_colab_link": true
    },
    "kernelspec": {
      "name": "python3",
      "display_name": "Python 3"
    },
    "language_info": {
      "name": "python"
    }
  },
  "cells": [
    {
      "cell_type": "markdown",
      "metadata": {
        "id": "view-in-github",
        "colab_type": "text"
      },
      "source": [
        "<a href=\"https://colab.research.google.com/github/edhioliver/Processamento-de-imagens-em-Python/blob/main/Processamento_de_imagens_em_Python.ipynb\" target=\"_parent\"><img src=\"https://colab.research.google.com/assets/colab-badge.svg\" alt=\"Open In Colab\"/></a>"
      ]
    },
    {
      "cell_type": "code",
      "execution_count": null,
      "metadata": {
        "id": "bj3TFc4mDuCU"
      },
      "outputs": [],
      "source": []
    }
  ]
}